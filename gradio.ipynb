{
 "cells": [
  {
   "cell_type": "code",
   "execution_count": 3,
   "metadata": {},
   "outputs": [
    {
     "data": {
      "text/plain": [
       "'sdf~'"
      ]
     },
     "execution_count": 3,
     "metadata": {},
     "output_type": "execute_result"
    }
   ],
   "source": [
    "'sdf~'.encode('ascii', 'ignore').decode('ascii')"
   ]
  },
  {
   "cell_type": "code",
   "execution_count": 4,
   "metadata": {},
   "outputs": [
    {
     "data": {
      "text/plain": [
       "True"
      ]
     },
     "execution_count": 4,
     "metadata": {},
     "output_type": "execute_result"
    }
   ],
   "source": [
    "#check if a string is ascii\n",
    "def is_ascii(s):\n",
    "    return all(ord(c) < 128 for c in s)\n",
    "\n",
    "is_ascii('~')"
   ]
  },
  {
   "cell_type": "code",
   "execution_count": 30,
   "metadata": {},
   "outputs": [
    {
     "name": "stdout",
     "output_type": "stream",
     "text": [
      "https://www.javlibrary.com/cn/vl_searchbyid.php?keyword=ssis 640\n",
      "<span class=\"star\"><a href=\"vl_star.php?s=aehvu\" rel=\"tag\">七ツ森りり</a></span>\n",
      "七ツ森りり\n",
      "https://www.javlibrary.com/cn/vl_searchbyid.php?keyword=ssis 641\n",
      "<span class=\"star\"><a href=\"vl_star.php?s=aexvs\" rel=\"tag\">有栖花あか</a></span>\n",
      "有栖花あか\n",
      "https://www.javlibrary.com/cn/vl_searchbyid.php?keyword=rbd356\n",
      "<span class=\"star\"><a href=\"vl_star.php?s=kqia\" rel=\"tag\">愛花沙也</a></span>\n",
      "愛花沙也\n",
      "https://www.javlibrary.com/cn/vl_searchbyid.php?keyword=huntb 102\n",
      "<span class=\"star\"><a href=\"vl_star.php?s=azmbm\" rel=\"tag\">あおいれな</a></span>\n",
      "あおいれな\n"
     ]
    }
   ],
   "source": [
    "import requests\n",
    "from bs4 import BeautifulSoup\n",
    "# function to get the AV star's name based on the video id\n",
    "def get_name(video_id):\n",
    "    # construct the url\n",
    "    url = f\"https://www.javlibrary.com/cn/vl_searchbyid.php?keyword={video_id}\"\n",
    "    print(url)\n",
    "    # send a GET request to the url\n",
    "    response = requests.get(url)\n",
    "    # print(response)\n",
    "    # parse the HTML content using BeautifulSoup\n",
    "    soup = BeautifulSoup(response.content, \"html.parser\")\n",
    "    # print(soup)\n",
    "    # find the div element that contains the AV star's name\n",
    "    av_star_div = soup.find(\"span\", {\"class\": \"star\"})\n",
    "    print(av_star_div)\n",
    "    # extract the AV star's name from the div element\n",
    "    av_star_name = av_star_div.text.strip()\n",
    "    return av_star_name\n",
    "# get_name('ssis 640')\n",
    "\n",
    "for n in ['ssis 640', 'ssis 641', 'rbd356', 'huntb 102']:\n",
    "  print(get_name(n))\n"
   ]
  }
 ],
 "metadata": {
  "kernelspec": {
   "display_name": "base",
   "language": "python",
   "name": "python3"
  },
  "language_info": {
   "codemirror_mode": {
    "name": "ipython",
    "version": 3
   },
   "file_extension": ".py",
   "mimetype": "text/x-python",
   "name": "python",
   "nbconvert_exporter": "python",
   "pygments_lexer": "ipython3",
   "version": "3.11.0"
  },
  "orig_nbformat": 4
 },
 "nbformat": 4,
 "nbformat_minor": 2
}
