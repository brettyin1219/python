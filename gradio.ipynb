{
 "cells": [
  {
   "cell_type": "code",
   "execution_count": 3,
   "metadata": {},
   "outputs": [
    {
     "data": {
      "text/plain": [
       "'sdf~'"
      ]
     },
     "execution_count": 3,
     "metadata": {},
     "output_type": "execute_result"
    }
   ],
   "source": [
    "'sdf~'.encode('ascii', 'ignore').decode('ascii')"
   ]
  },
  {
   "cell_type": "code",
   "execution_count": 4,
   "metadata": {},
   "outputs": [
    {
     "data": {
      "text/plain": [
       "True"
      ]
     },
     "execution_count": 4,
     "metadata": {},
     "output_type": "execute_result"
    }
   ],
   "source": [
    "#check if a string is ascii\n",
    "def is_ascii(s):\n",
    "    return all(ord(c) < 128 for c in s)\n",
    "\n",
    "is_ascii('~')"
   ]
  },
  {
   "cell_type": "code",
   "execution_count": 10,
   "metadata": {},
   "outputs": [
    {
     "name": "stdout",
     "output_type": "stream",
     "text": [
      "https://www.javlibrary.com/cn/vl_searchbyid.php?keyword=ssis 640\n",
      "<span class=\"star\"><a href=\"vl_star.php?s=aehvu\" rel=\"tag\">七ツ森りり</a></span>\n",
      "七ツ森りり\n",
      "https://www.javlibrary.com/cn/vl_searchbyid.php?keyword=ssis 641\n",
      "<span class=\"star\"><a href=\"vl_star.php?s=aexvs\" rel=\"tag\">有栖花あか</a></span>\n",
      "有栖花あか\n",
      "https://www.javlibrary.com/cn/vl_searchbyid.php?keyword=rbd356\n",
      "<span class=\"star\"><a href=\"vl_star.php?s=kqia\" rel=\"tag\">愛花沙也</a></span>\n",
      "愛花沙也\n",
      "https://www.javlibrary.com/cn/vl_searchbyid.php?keyword=huntb102\n",
      "<span class=\"star\"><a href=\"vl_star.php?s=azmbm\" rel=\"tag\">あおいれな</a></span>\n",
      "あおいれな\n"
     ]
    }
   ],
   "source": [
    "import requests\n",
    "from bs4 import BeautifulSoup\n",
    "# function to get the AV star's name based on the video id\n",
    "def get_name(video_id):\n",
    "    # construct the url\n",
    "    url = f\"https://www.javlibrary.com/cn/vl_searchbyid.php?keyword={video_id}\"\n",
    "    print(url)\n",
    "    # send a GET request to the url\n",
    "    response = requests.get(url)\n",
    "    # print(response)\n",
    "    # parse the HTML content using BeautifulSoup\n",
    "    soup = BeautifulSoup(response.content, \"html.parser\")\n",
    "    # print(soup)\n",
    "    # find the div element that contains the AV star's name\n",
    "    av_star_div = soup.find(\"span\", {\"class\": \"star\"})\n",
    "    print(av_star_div)\n",
    "    # extract the AV star's name from the div element\n",
    "    av_star_name = av_star_div.text.strip()\n",
    "    return av_star_name\n",
    "# get_name('ssis 640')\n",
    "\n",
    "for n in ['ssis 640', 'ssis 641', 'rbd356', 'huntb102']:\n",
    "  print(get_name(n))\n"
   ]
  },
  {
   "cell_type": "code",
   "execution_count": 18,
   "metadata": {},
   "outputs": [
    {
     "name": "stdout",
     "output_type": "stream",
     "text": [
      "MINAMO\n",
      "None\n",
      "U:xunlei\\乱鬼龙+月游戏\\MKDD-002\\MKDD-002%SM%.mp4 -> U:xunlei\\乱鬼龙+月游戏\\MKDD-002\\MKDD-002%SM%无名女优.mp4\n"
     ]
    }
   ],
   "source": [
    "import os\n",
    "import re\n",
    "import datetime\n",
    "# define the directory path\n",
    "directory = 'U:'\n",
    "\n",
    "# regex that matches the string like 'ssis-345.mp4','ssq-234.mp4','hunbg 234.mp4','asd 234c.mp4'\n",
    "regex = r'^[a-zA-Z]{2,5}[- ]?\\d{2,3}\\D*\\.mp4$'\n",
    "def remove_file_name_suffix(file):\n",
    "    if file.endswith('.mp4'):\n",
    "        file_path = os.path.join(root, file)\n",
    "        new_file_name = re.sub(r'(\\d+).*', r'\\1', file)\n",
    "        return new_file_name\n",
    "                \n",
    "def set_file_last_modified(file_path, dt):\n",
    "    dt_epoch = dt.timestamp()\n",
    "    os.utime(file_path, (dt_epoch, dt_epoch))\n",
    "\n",
    "import requests\n",
    "from bs4 import BeautifulSoup\n",
    "# function to get the AV star's name based on the video id\n",
    "def get_name(video_id):\n",
    "    # construct the url\n",
    "    url = f\"https://www.javlibrary.com/cn/vl_searchbyid.php?keyword={video_id}\"\n",
    "    # send a GET request to the url\n",
    "    response = requests.get(url)\n",
    "    # print(response)\n",
    "    # parse the HTML content using BeautifulSoup\n",
    "    soup = BeautifulSoup(response.content, \"html.parser\")\n",
    "    # print(soup)\n",
    "    # find the div element that contains the AV star's name\n",
    "    av_star_div = soup.find(\"span\", {\"class\": \"star\"})\n",
    "    if av_star_div:\n",
    "      # extract the AV star's name from the div element\n",
    "      av_star_name = av_star_div.text.strip()\n",
    "    else:\n",
    "      av_star_name = None\n",
    "    return av_star_name\n",
    "def is_ascii(s):\n",
    "    return all(ord(c) < 128 for c in s)\n",
    "# loop through all files and directories in the directory recursively\n",
    "n = 0\n",
    "for root, dirs, files in os.walk(directory):\n",
    "    for file in files:\n",
    "        # check if the file name starts with \"test\"\n",
    "        if is_ascii(file) and re.match(regex, file) and '无名女优' not in file:\n",
    "            # create the new file name by replacing \"test\" with \"haola\"\n",
    "            pure_name = remove_file_name_suffix(file)\n",
    "            star_name = get_name(pure_name)\n",
    "            print(star_name)\n",
    "            file_path = os.path.join(root, file)\n",
    "            if star_name is None:\n",
    "                star_name = '无名女优'\n",
    "            if star_name in file:\n",
    "                continue     \n",
    "            new_file_path = os.path.join(root, file.replace('.mp4',star_name + '.mp4'))\n",
    "            os.rename(file_path, new_file_path)\n",
    "            now = datetime.datetime.now()\n",
    "            set_file_last_modified(new_file_path, now)\n",
    "            print(file_path+' -> '+ new_file_path)\n",
    "            \n",
    "             \n",
    "            # n = n + 1\n",
    "            # if n >10:\n",
    "            #     break\n",
    "\n",
    "\n",
    "           "
   ]
  },
  {
   "cell_type": "code",
   "execution_count": 41,
   "metadata": {},
   "outputs": [
    {
     "name": "stdout",
     "output_type": "stream",
     "text": [
      "False\n",
      "True\n",
      "True\n"
     ]
    }
   ],
   "source": [
    "def is_japanese(string):\n",
    "    return bool(re.search(r'[\\u3040-\\u30ff\\u4e00-\\u9fff\\uf900-\\ufaff]', string))\n",
    "print(is_japanese('asdfa'))\n",
    "print(is_japanese('の——うた'))\n",
    "print(is_japanese('好'))"
   ]
  }
 ],
 "metadata": {
  "kernelspec": {
   "display_name": "base",
   "language": "python",
   "name": "python3"
  },
  "language_info": {
   "codemirror_mode": {
    "name": "ipython",
    "version": 3
   },
   "file_extension": ".py",
   "mimetype": "text/x-python",
   "name": "python",
   "nbconvert_exporter": "python",
   "pygments_lexer": "ipython3",
   "version": "3.10.10"
  },
  "orig_nbformat": 4
 },
 "nbformat": 4,
 "nbformat_minor": 2
}
