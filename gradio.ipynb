{
 "cells": [
  {
   "cell_type": "code",
   "execution_count": 3,
   "metadata": {},
   "outputs": [
    {
     "data": {
      "text/plain": [
       "'sdf~'"
      ]
     },
     "execution_count": 3,
     "metadata": {},
     "output_type": "execute_result"
    }
   ],
   "source": [
    "\"sdf~\".encode(\"ascii\", \"ignore\").decode(\"ascii\")"
   ]
  },
  {
   "cell_type": "code",
   "execution_count": 4,
   "metadata": {},
   "outputs": [
    {
     "data": {
      "text/plain": [
       "True"
      ]
     },
     "execution_count": 4,
     "metadata": {},
     "output_type": "execute_result"
    }
   ],
   "source": [
    "# check if a string is ascii\n",
    "def is_ascii(s):\n",
    "    return all(ord(c) < 128 for c in s)\n",
    "\n",
    "\n",
    "is_ascii(\"~\")"
   ]
  },
  {
   "cell_type": "code",
   "execution_count": 10,
   "metadata": {},
   "outputs": [
    {
     "name": "stdout",
     "output_type": "stream",
     "text": [
      "https://www.javlibrary.com/cn/vl_searchbyid.php?keyword=ssis 640\n",
      "<span class=\"star\"><a href=\"vl_star.php?s=aehvu\" rel=\"tag\">七ツ森りり</a></span>\n",
      "七ツ森りり\n",
      "https://www.javlibrary.com/cn/vl_searchbyid.php?keyword=ssis 641\n",
      "<span class=\"star\"><a href=\"vl_star.php?s=aexvs\" rel=\"tag\">有栖花あか</a></span>\n",
      "有栖花あか\n",
      "https://www.javlibrary.com/cn/vl_searchbyid.php?keyword=rbd356\n",
      "<span class=\"star\"><a href=\"vl_star.php?s=kqia\" rel=\"tag\">愛花沙也</a></span>\n",
      "愛花沙也\n",
      "https://www.javlibrary.com/cn/vl_searchbyid.php?keyword=huntb102\n",
      "<span class=\"star\"><a href=\"vl_star.php?s=azmbm\" rel=\"tag\">あおいれな</a></span>\n",
      "あおいれな\n"
     ]
    }
   ],
   "source": [
    "import requests\n",
    "from bs4 import BeautifulSoup\n",
    "\n",
    "\n",
    "# function to get the AV star's name based on the video id\n",
    "def get_name(video_id):\n",
    "    # construct the url\n",
    "    url = f\"https://www.javlibrary.com/cn/vl_searchbyid.php?keyword={video_id}\"\n",
    "    print(url)\n",
    "    # send a GET request to the url\n",
    "    response = requests.get(url)\n",
    "    # print(response)\n",
    "    # parse the HTML content using BeautifulSoup\n",
    "    soup = BeautifulSoup(response.content, \"html.parser\")\n",
    "    # print(soup)\n",
    "    # find the div element that contains the AV star's name\n",
    "    av_star_div = soup.find(\"span\", {\"class\": \"star\"})\n",
    "    print(av_star_div)\n",
    "    # extract the AV star's name from the div element\n",
    "    av_star_name = av_star_div.text.strip()\n",
    "    return av_star_name\n",
    "\n",
    "\n",
    "# get_name('ssis 640')\n",
    "\n",
    "for n in [\"ssis 640\", \"ssis 641\", \"rbd356\", \"huntb102\"]:\n",
    "    print(get_name(n))"
   ]
  },
  {
   "cell_type": "code",
   "execution_count": 18,
   "metadata": {},
   "outputs": [
    {
     "name": "stdout",
     "output_type": "stream",
     "text": [
      "MINAMO\n",
      "None\n",
      "U:xunlei\\乱鬼龙+月游戏\\MKDD-002\\MKDD-002%SM%.mp4 -> U:xunlei\\乱鬼龙+月游戏\\MKDD-002\\MKDD-002%SM%无名女优.mp4\n"
     ]
    }
   ],
   "source": [
    "import os\n",
    "import re\n",
    "import datetime\n",
    "\n",
    "# define the directory path\n",
    "directory = \"U:\"\n",
    "directories =[\"U:\"]\n",
    "# regex that matches the string like 'ssis-345.mp4','ssq-234.mp4','hunbg 234.mp4','asd 234c.mp4'\n",
    "regex = r\"^[a-zA-Z]{2,5}[- ]?\\d{2,3}\\D*\\.mp4$\"\n",
    "\n",
    "\n",
    "def remove_file_name_suffix(file):\n",
    "    if file.endswith(\".mp4\"):\n",
    "        file_path = os.path.join(root, file)\n",
    "        new_file_name = re.sub(r\"(\\d+).*\", r\"\\1\", file)\n",
    "        return new_file_name\n",
    "\n",
    "\n",
    "def set_file_last_modified(file_path, dt):\n",
    "    dt_epoch = dt.timestamp()\n",
    "    os.utime(file_path, (dt_epoch, dt_epoch))\n",
    "\n",
    "\n",
    "import requests\n",
    "from bs4 import BeautifulSoup\n",
    "\n",
    "\n",
    "# function to get the AV star's name based on the video id\n",
    "def get_name(video_id):\n",
    "    # construct the url\n",
    "    url = f\"https://www.javlibrary.com/cn/vl_searchbyid.php?keyword={video_id}\"\n",
    "    # send a GET request to the url\n",
    "    response = requests.get(url)\n",
    "    # print(response)\n",
    "    # parse the HTML content using BeautifulSoup\n",
    "    soup = BeautifulSoup(response.content, \"html.parser\")\n",
    "    # print(soup)\n",
    "    av_star_div = soup.find(\"span\", {\"class\": \"star\"})\n",
    "    if av_star_div:\n",
    "        # extract the AV star's name from the div element\n",
    "        av_star_name = av_star_div.text.strip()\n",
    "        print(av_star_name)\n",
    "    else:\n",
    "        av_star_name = None\n",
    "        divTag = soup.find_all(\"div\", {\"class\": \"video\"})\n",
    "        if len(divTag) > 0:\n",
    "            for v in divTag:\n",
    "                # print(v)\n",
    "                # print(v.find(\"div\", {\"class\": \"id\"}).text)\n",
    "                # print(v.find(\"a\").get(\"href\"))\n",
    "                if (\n",
    "                    v.find(\"div\", {\"class\": \"id\"}).text.replace(\"-\", \"\").lower()\n",
    "                    == video_id.replace(\"-\", \"\").lower()\n",
    "                ):\n",
    "                    vurl = f\"https://www.javlibrary.com/cn/{v.find('a').get('href').replace(f'./','')}\"\n",
    "                    print(vurl)\n",
    "                    res = requests.get(vurl)\n",
    "                    so = BeautifulSoup(res.content, \"html.parser\")\n",
    "                    av_star_div = so.find(\"span\", {\"class\": \"star\"})\n",
    "                    print(av_star_div)\n",
    "                    if av_star_div:\n",
    "                        # extract the AV star's name from the div element\n",
    "                        av_star_name = av_star_div.text.strip()\n",
    "                        print(av_star_name)\n",
    "                        if av_star_name:\n",
    "                            break\n",
    "    return av_star_name\n",
    "\n",
    "\n",
    "def is_ascii(s):\n",
    "    return all(ord(c) < 128 for c in s)\n",
    "\n",
    "\n",
    "# loop through all files and directories in the directory recursively\n",
    "n = 0\n",
    "def modify_new_video(d):\n",
    "    for root, dirs, files in os.walk(d):\n",
    "        for file in files:\n",
    "            # check if the file name starts with \"test\"\n",
    "            if is_ascii(file) and re.match(regex, file) and \"无名女优\" not in file:\n",
    "                # create the new file name by replacing \"test\" with \"haola\"\n",
    "                pure_name = remove_file_name_suffix(file)\n",
    "                star_name = get_name(pure_name)\n",
    "                print(star_name)\n",
    "                file_path = os.path.join(root, file)\n",
    "                if star_name is None:\n",
    "                    star_name = \"无名女优\"\n",
    "                if star_name in file:\n",
    "                    continue\n",
    "                new_file_path = os.path.join(root, file.replace(\".mp4\", star_name + \".mp4\"))\n",
    "                os.rename(file_path, new_file_path)\n",
    "                now = datetime.datetime.now()\n",
    "                set_file_last_modified(new_file_path, now)\n",
    "                print(file_path + \" -> \" + new_file_path)\n",
    "            #     break\n",
    "def modify_nofound_video(d):\n",
    "    for root, dirs, files in os.walk(d):\n",
    "        for file in files:\n",
    "            # check if the file name starts with \"test\"\n",
    "            if re.match(regex, file) and \"无名女优\" in file:\n",
    "                # create the new file name by replacing \"test\" with \"haola\"\n",
    "                pure_name = remove_file_name_suffix(file)\n",
    "                star_name = get_name(pure_name)\n",
    "                print(star_name)\n",
    "                file_path = os.path.join(root, file)\n",
    "                if star_name is None:\n",
    "                    star_name = \"无名女优\"\n",
    "                if star_name in file:\n",
    "                    continue\n",
    "                new_file_path = os.path.join(root, file.replace(\"无名女优.mp4\", star_name + \".mp4\"))\n",
    "                os.rename(file_path, new_file_path)\n",
    "                now = datetime.datetime.now()\n",
    "                set_file_last_modified(new_file_path, now)\n",
    "                print(file_path + \" -> \" + new_file_path)\n",
    "                \n",
    "def all_directories:\n",
    "    for d in directories:\n",
    "        modify_nofound_video(d)"
   ]
  },
  {
   "cell_type": "code",
   "execution_count": 41,
   "metadata": {},
   "outputs": [
    {
     "name": "stdout",
     "output_type": "stream",
     "text": [
      "<div class=\"video\" id=\"vid_javli6j6qa\"><a href=\"./?v=javli6j6qa\" title=\"IPX-402 絶頂117回！大痙攣141回！潮吹き8100cc！エロス極限突破トランス絶頂FUCK 相沢みなみ （ブルーレイディスク）\"><div class=\"id\">IPX-402</div><img border=\"0\" height=\"200\" onerror=\"ThumbError(this, 'https://t36.pixhost.to/thumbs/106/126047963_t414660.jpg');\" src=\"https://pics.dmm.co.jp/mono/movie/adult/9ipx402/9ipx402ps.jpg\" width=\"147\"><div class=\"title\">絶頂117回！大痙攣141回！潮吹き8100cc！エロス極限突破トランス絶頂FUCK 相沢みなみ （ブルーレイディスク）</div></img></a><div class=\"toolbar\"><a class=\"icn_want\" id=\"javli6j6qa\" title=\"我想要\"></a><a class=\"icn_seen\" id=\"javli6j6qa\" title=\"看过了\"></a><a class=\"icn_have\" id=\"javli6j6qa\" title=\"已拥有\"></a></div></div>\n",
      "IPX-402\n",
      "./?v=javli6j6qa\n",
      "https://www.javlibrary.com/cn/?v=javli6j6qa\n",
      "<span class=\"star\"><a href=\"vl_star.php?s=afgda\" rel=\"tag\">相沢みなみ</a></span>\n",
      "相沢みなみ\n"
     ]
    },
    {
     "data": {
      "text/plain": [
       "'相沢みなみ'"
      ]
     },
     "execution_count": 41,
     "metadata": {},
     "output_type": "execute_result"
    }
   ],
   "source": [
    "import requests\n",
    "from bs4 import BeautifulSoup\n",
    "import json\n",
    "\n",
    "\n",
    "# function to get the AV star's name based on the video id\n",
    "def get_name(video_id):\n",
    "    # construct the url\n",
    "    url = f\"https://www.javlibrary.com/cn/vl_searchbyid.php?keyword={video_id}\"\n",
    "    # send a GET request to the url\n",
    "    response = requests.get(url)\n",
    "    # print(response)\n",
    "    # parse the HTML content using BeautifulSoup\n",
    "    soup = BeautifulSoup(response.content, \"html.parser\")\n",
    "    # print(soup)\n",
    "    av_star_div = soup.find(\"span\", {\"class\": \"star\"})\n",
    "    if av_star_div:\n",
    "        # extract the AV star's name from the div element\n",
    "        av_star_name = av_star_div.text.strip()\n",
    "        print(av_star_name)\n",
    "    else:\n",
    "        av_star_name = None\n",
    "        divTag = soup.find_all(\"div\", {\"class\": \"video\"})\n",
    "        if len(divTag) > 0:\n",
    "            for v in divTag:\n",
    "                # print(v)\n",
    "                # print(v.find(\"div\", {\"class\": \"id\"}).text)\n",
    "                # print(v.find(\"a\").get(\"href\"))\n",
    "                if (\n",
    "                    v.find(\"div\", {\"class\": \"id\"}).text.replace(\"-\", \"\").lower()\n",
    "                    == video_id.replace(\"-\", \"\").lower()\n",
    "                ):\n",
    "                    vurl = f\"https://www.javlibrary.com/cn/{v.find('a').get('href').replace(f'./','')}\"\n",
    "                    print(vurl)\n",
    "                    res = requests.get(vurl)\n",
    "                    so = BeautifulSoup(res.content, \"html.parser\")\n",
    "                    av_star_div = so.find(\"span\", {\"class\": \"star\"})\n",
    "                    print(av_star_div)\n",
    "                    if av_star_div:\n",
    "                        # extract the AV star's name from the div element\n",
    "                        av_star_name = av_star_div.text.strip()\n",
    "                        print(av_star_name)\n",
    "                        if av_star_name:\n",
    "                            break\n",
    "    return av_star_name\n",
    "    # for tag in divTag:\n",
    "    #     tdTags = tag.find_all(\"td\", {\"class\": \"align-right\"})\n",
    "    #     for tag in tdTags:\n",
    "    #         print tag.text\n",
    "    # print(divTag[0].get('id'))\n",
    "    # print(divTag[0].get('title'))\n",
    "\n",
    "\n",
    "get_name()"
   ]
  },
  {
   "cell_type": "code",
   "execution_count": 41,
   "metadata": {},
   "outputs": [
    {
     "name": "stdout",
     "output_type": "stream",
     "text": [
      "False\n",
      "True\n",
      "True\n"
     ]
    }
   ],
   "source": [
    "def is_japanese(string):\n",
    "    return bool(re.search(r\"[\\u3040-\\u30ff\\u4e00-\\u9fff\\uf900-\\ufaff]\", string))\n",
    "\n",
    "\n",
    "print(is_japanese(\"asdfa\"))\n",
    "print(is_japanese(\"の——うた\"))\n",
    "print(is_japanese(\"好\"))"
   ]
  },
  {
   "cell_type": "code",
   "execution_count": 46,
   "metadata": {},
   "outputs": [
    {
     "name": "stdout",
     "output_type": "stream",
     "text": [
      "afd444\n"
     ]
    }
   ],
   "source": [
    "import re\n",
    "\n",
    "# define the directory path\n",
    "\n",
    "\n",
    "# regex that matches the string like 'ssis-345.mp4','ssq-234.mp4','hunbg 234.mp4','asd 234c.mp4'\n",
    "def remove_file_name_suffix(file):\n",
    "    if file.endswith(\".mp4\"):\n",
    "        new_file_name = re.sub(r\"(\\d+).*\", r\"\\1\", file)\n",
    "        print(new_file_name)\n",
    "\n",
    "\n",
    "remove_file_name_suffix(\"afd444武名.mp4\")"
   ]
  }
 ],
 "metadata": {
  "kernelspec": {
   "display_name": "base",
   "language": "python",
   "name": "python3"
  },
  "language_info": {
   "codemirror_mode": {
    "name": "ipython",
    "version": 3
   },
   "file_extension": ".py",
   "mimetype": "text/x-python",
   "name": "python",
   "nbconvert_exporter": "python",
   "pygments_lexer": "ipython3",
   "version": "3.10.10"
  },
  "orig_nbformat": 4
 },
 "nbformat": 4,
 "nbformat_minor": 2
}
